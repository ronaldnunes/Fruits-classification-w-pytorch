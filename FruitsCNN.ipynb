{
  "nbformat": 4,
  "nbformat_minor": 0,
  "metadata": {
    "colab": {
      "provenance": [],
      "collapsed_sections": [
        "V2cAWkAFzrg4",
        "aQopOq832Hjv"
      ],
      "authorship_tag": "ABX9TyMJBfH3hRyVAQPrg3sYEHJO",
      "include_colab_link": true
    },
    "kernelspec": {
      "name": "python3",
      "display_name": "Python 3"
    },
    "language_info": {
      "name": "python"
    }
  },
  "cells": [
    {
      "cell_type": "markdown",
      "metadata": {
        "id": "view-in-github",
        "colab_type": "text"
      },
      "source": [
        "<a href=\"https://colab.research.google.com/github/ronaldnunes/Fruits-classification-w-pytorch/blob/main/FruitsCNN.ipynb\" target=\"_parent\"><img src=\"https://colab.research.google.com/assets/colab-badge.svg\" alt=\"Open In Colab\"/></a>"
      ]
    },
    {
      "cell_type": "markdown",
      "source": [
        "# CARREGANDO AS BIBLIOTECAS"
      ],
      "metadata": {
        "id": "Q9aeQM-Nyn0f"
      }
    },
    {
      "cell_type": "code",
      "execution_count": 24,
      "metadata": {
        "id": "i5hBCQpdwHmS"
      },
      "outputs": [],
      "source": [
        "import torch\n",
        "from torch import nn\n",
        "from torch.utils.data import DataLoader, Subset\n",
        "from torchvision import datasets, transforms, models\n",
        "import kagglehub\n",
        "import os\n",
        "import matplotlib.pyplot as plt\n"
      ]
    },
    {
      "cell_type": "markdown",
      "source": [
        "# MANIPULANDO OS DADOS\n"
      ],
      "metadata": {
        "id": "V2cAWkAFzrg4"
      }
    },
    {
      "cell_type": "code",
      "source": [
        "!unzip data2.zip"
      ],
      "metadata": {
        "collapsed": true,
        "id": "kfLodkiOZ67A"
      },
      "execution_count": null,
      "outputs": []
    },
    {
      "cell_type": "code",
      "source": [
        "path_train = \"/content/data2/training\"\n",
        "path_test = \"/content/data2/test\""
      ],
      "metadata": {
        "id": "pBqjU51QZ5sI"
      },
      "execution_count": 21,
      "outputs": []
    },
    {
      "cell_type": "code",
      "source": [
        "train_transform = transforms.Compose([\n",
        "    transforms.RandomHorizontalFlip(),           # Inverter horizontalmente com 50% de probabilidade\n",
        "    transforms.RandomRotation(15),              # Rotação aleatória de até 15 graus\n",
        "    transforms.RandomResizedCrop((64, 64)),     # Recorte e redimensionamento aleatórios\n",
        "    transforms.ColorJitter(brightness=0.2, contrast=0.2, saturation=0.2, hue=0.1),  # Ajustes de cores\n",
        "    transforms.ToTensor(),                      # Converter para tensor\n",
        "    transforms.Normalize((0.5, 0.5, 0.5), (0.5, 0.5, 0.5))  # Normalizar os valores\n",
        "])\n",
        "\n",
        "test_transform = transforms.Compose([\n",
        "    transforms.Resize((64, 64)),  # Redimensionar as imagens\n",
        "    transforms.ToTensor(),       # Converter para tensor\n",
        "    transforms.Normalize((0.5, 0.5, 0.5), (0.5, 0.5, 0.5))  # Normalizar os valores\n",
        "])"
      ],
      "metadata": {
        "id": "FiOKS0pm5PWq"
      },
      "execution_count": 22,
      "outputs": []
    },
    {
      "cell_type": "code",
      "source": [
        "data_train = datasets.ImageFolder(path_train, transform=train_transform)\n",
        "data_test = datasets.ImageFolder(path_test, transform=test_transform)"
      ],
      "metadata": {
        "id": "Zh6c77C4hSlx"
      },
      "execution_count": 23,
      "outputs": []
    },
    {
      "cell_type": "code",
      "source": [
        "imgs = torch.stack([img_t for img_t, _ in data_train], dim=3)\n",
        "imgs.shape"
      ],
      "metadata": {
        "id": "_2FPSgNh4Q4c"
      },
      "execution_count": null,
      "outputs": []
    },
    {
      "cell_type": "code",
      "source": [
        "train_loader = DataLoader(data_train, batch_size=96, shuffle=True)\n",
        "test_loader = DataLoader(data_test, batch_size=96, shuffle=False)"
      ],
      "metadata": {
        "id": "BwWqYqqbDTaF"
      },
      "execution_count": null,
      "outputs": []
    },
    {
      "cell_type": "markdown",
      "source": [
        "# CONSTRUINDO UMA REDE CONVOLUCIONAL PRÓPRIA"
      ],
      "metadata": {
        "id": "tnAVbvmL00tG"
      }
    },
    {
      "cell_type": "markdown",
      "source": [
        "DEFININDO A ARQUITETURA DA REDE"
      ],
      "metadata": {
        "id": "vZHk5s0v2xiq"
      }
    },
    {
      "cell_type": "code",
      "source": [
        "class ConvNet(nn.Module):\n",
        "  def __init__(self):\n",
        "    super().__init__()\n",
        "    self.layers = nn.Sequential(\n",
        "        nn.Conv2d(3, 16, kernel_size=3, padding=1),\n",
        "        nn.ReLU(),\n",
        "        nn.MaxPool2d(2, 2),\n",
        "        nn.Conv2d(16, 32, kernel_size=3, padding=1),\n",
        "        nn.ReLU(),\n",
        "        nn.MaxPool2d(2, 2),\n",
        "        nn.Flatten(),\n",
        "        nn.Linear(32 * 16 * 16, 128),\n",
        "        nn.ReLU(),\n",
        "        nn.Linear(128, 3)\n",
        "    )\n",
        "\n",
        "  def forward(self, x):\n",
        "    return self.layers(x)\n",
        "\n"
      ],
      "metadata": {
        "id": "bXpGuqyB7UCe"
      },
      "execution_count": null,
      "outputs": []
    },
    {
      "cell_type": "markdown",
      "source": [],
      "metadata": {
        "id": "CAZI76EL09Nn"
      }
    },
    {
      "cell_type": "code",
      "source": [
        "\n",
        "device = \"cuda\" if torch.cuda.is_available() else \"cpu\"\n",
        "ConvNet = ConvNet().to(device)\n",
        "\n",
        "loss_function = nn.CrossEntropyLoss()  # DEFININDO A FUNÇÃO DE PERDA (ENTROPIA CRUZADA)\n",
        "optimizer = torch.optim.Adam(ConvNet.parameters(), lr=0.0001)  # DEFININDO O OTIMIZADOR (ADAM)"
      ],
      "metadata": {
        "id": "_FoidKfjWE6t"
      },
      "execution_count": 32,
      "outputs": []
    },
    {
      "cell_type": "markdown",
      "source": [
        "# CONTRUINDO UM MODELO RESNET"
      ],
      "metadata": {
        "id": "DdhTbpMt6nuB"
      }
    },
    {
      "cell_type": "code",
      "source": [
        "device = \"cuda\" if torch.cuda.is_available() else \"cpu\"\n",
        "\n",
        "ResNet = models.resnet18(pretrained=True).to(device)\n",
        "\n",
        "n_features = ResNet.fc.in_features\n",
        "ResNet.fc = nn.Linear(n_features, 3)\n",
        "\n",
        "loss_function = nn.CrossEntropyLoss()  # DEFININDO A FUNÇÃO DE PERDA (ENTROPIA CRUZADA)\n",
        "optimizer = torch.optim.Adam(ResNet.parameters(), lr=0.0001)  # DEFININDO O OTIMIZADOR (ADAM)"
      ],
      "metadata": {
        "colab": {
          "base_uri": "https://localhost:8080/"
        },
        "id": "FGanXajl6-TY",
        "outputId": "0751563e-560a-45d5-9934-6093aad9c0e0"
      },
      "execution_count": 31,
      "outputs": [
        {
          "output_type": "stream",
          "name": "stderr",
          "text": [
            "/usr/local/lib/python3.10/dist-packages/torchvision/models/_utils.py:208: UserWarning: The parameter 'pretrained' is deprecated since 0.13 and may be removed in the future, please use 'weights' instead.\n",
            "  warnings.warn(\n",
            "/usr/local/lib/python3.10/dist-packages/torchvision/models/_utils.py:223: UserWarning: Arguments other than a weight enum or `None` for 'weights' are deprecated since 0.13 and may be removed in the future. The current behavior is equivalent to passing `weights=ResNet18_Weights.IMAGENET1K_V1`. You can also use `weights=ResNet18_Weights.DEFAULT` to get the most up-to-date weights.\n",
            "  warnings.warn(msg)\n"
          ]
        }
      ]
    },
    {
      "cell_type": "markdown",
      "source": [
        "# TREINAMENTO, MÉTRICAS E PREDIÇÕES"
      ],
      "metadata": {
        "id": "SKsRkvUh4br8"
      }
    },
    {
      "cell_type": "markdown",
      "source": [
        "FUNÇÃO DE TREINAMENTO"
      ],
      "metadata": {
        "id": "axWUMdc51vuX"
      }
    },
    {
      "cell_type": "code",
      "source": [
        "def Train(model, dataloader, loss_func, optimizer):\n",
        "    model.train()\n",
        "    cost = 0.0\n",
        "    for imgs, labels in dataloader:\n",
        "      imgs, labels = imgs.to(device), labels.to(device)\n",
        "\n",
        "      optimizer.zero_grad()\n",
        "\n",
        "      pred = model(imgs)\n",
        "\n",
        "      loss = loss_func(pred, labels)\n",
        "      loss.backward()\n",
        "      optimizer.step()\n",
        "\n",
        "      cost += loss.item()\n",
        "\n",
        "    return cost / len(dataloader)"
      ],
      "metadata": {
        "id": "CDRic5WtBMw1"
      },
      "execution_count": 27,
      "outputs": []
    },
    {
      "cell_type": "markdown",
      "source": [
        "FUNÇÃO DE VALIDAÇAO\n"
      ],
      "metadata": {
        "id": "rnAOIp4P146A"
      }
    },
    {
      "cell_type": "code",
      "source": [
        "def Validate(model, dataloader, loss_function):\n",
        "  model.eval()\n",
        "  cost = 0.0\n",
        "\n",
        "  with torch.no_grad():\n",
        "    for imgs, labels in dataloader:\n",
        "      imgs, labels = imgs.to(device), labels.to(device)\n",
        "\n",
        "      pred = model(imgs)\n",
        "      loss = loss_function(pred, labels)\n",
        "      cost += loss.item()\n",
        "\n",
        "  return cost / len(dataloader)"
      ],
      "metadata": {
        "id": "sadmccsjmyyZ"
      },
      "execution_count": 28,
      "outputs": []
    },
    {
      "cell_type": "markdown",
      "source": [
        "FUNÇÃO PARA CALCULAR ACURÁCIA"
      ],
      "metadata": {
        "id": "qWopHlTn1_rO"
      }
    },
    {
      "cell_type": "code",
      "source": [
        "def Acuracy(model, test_loader):\n",
        "  model.eval()\n",
        "\n",
        "  correct = 0\n",
        "  total = 0\n",
        "\n",
        "  # Itere sobre o conjunto de dados de teste\n",
        "  with torch.no_grad():  # Desative o cálculo de gradientes durante a avaliação\n",
        "      for data in test_loader:\n",
        "          images, labels = data\n",
        "          images, labels = images.to(device), labels.to(device)\n",
        "\n",
        "          outputs = model(images)\n",
        "          _, predicted = torch.max(outputs.data, 1)\n",
        "\n",
        "          total += labels.size(0)\n",
        "          correct += (predicted == labels).sum().item()\n",
        "\n",
        "  # Calcule a acurácia\n",
        "  accuracy = 100 * correct / total\n",
        "  print(f\"Acurácia no conjunto de teste: {accuracy:.2f}%\")"
      ],
      "metadata": {
        "id": "VhPy9pmc2Bdv"
      },
      "execution_count": 29,
      "outputs": []
    },
    {
      "cell_type": "markdown",
      "source": [
        "FUNÇÃO PARA PLOTAR A CURVA DE APRENDIZADO"
      ],
      "metadata": {
        "id": "aQopOq832Hjv"
      }
    },
    {
      "cell_type": "code",
      "source": [
        "def learning_curve(errors):\n",
        "  fig = plt.figure(figsize=(13, 5))\n",
        "  ax = fig.gca()\n",
        "  for loss_name, loss_values in errors.items():\n",
        "    ax.plot(loss_values, label=loss_name)\n",
        "  ax.legend(fontsize=\"16\")\n",
        "  ax.set_xlabel(\"Iteração\", fontsize=\"16\")\n",
        "  ax.set_ylabel(\"Erro\", fontsize=\"16\")\n",
        "  ax.set_title(\"Erro vs Iterações\", fontsize=\"16\");"
      ],
      "metadata": {
        "id": "ZS-pr4N0mNqj"
      },
      "execution_count": 30,
      "outputs": []
    },
    {
      "cell_type": "markdown",
      "source": [
        "TREINANDO O MODELO"
      ],
      "metadata": {
        "id": "Tc2qnLVi2Z9N"
      }
    },
    {
      "cell_type": "code",
      "source": [
        "model = ConvNet #Selecione o modelo (ResNet, ou ConvNet)\n",
        "epochs = 10\n",
        "train_costs = []\n",
        "test_costs = []\n",
        "for t in range(epochs):\n",
        "  train_cost = Train(model, train_loader, loss_function, optimizer)\n",
        "  train_costs.append(train_cost)\n",
        "\n",
        "  test_cost = Validate(model, test_loader, loss_function)\n",
        "  test_costs.append(test_cost)\n",
        "\n",
        "  print(f\"Epoch: {t+1}; Train Loss: {train_cost}\")\n",
        "\n",
        "print(\"FIM\")\n"
      ],
      "metadata": {
        "colab": {
          "base_uri": "https://localhost:8080/"
        },
        "id": "mhpySeHxBcQL",
        "outputId": "c73e8e6a-bf87-4a45-c1e7-13d70d24e4d3"
      },
      "execution_count": 35,
      "outputs": [
        {
          "output_type": "stream",
          "name": "stdout",
          "text": [
            "Epoch: 1; Train Loss: 0.8986827168199751\n",
            "Epoch: 2; Train Loss: 0.5793585909737481\n",
            "Epoch: 3; Train Loss: 0.45791495343049365\n",
            "Epoch: 4; Train Loss: 0.38062554763423073\n",
            "Epoch: 5; Train Loss: 0.3324156891968515\n",
            "Epoch: 6; Train Loss: 0.2897949516773224\n",
            "Epoch: 7; Train Loss: 0.2773780831032329\n",
            "Epoch: 8; Train Loss: 0.2433435262905227\n",
            "Epoch: 9; Train Loss: 0.2181877957450019\n",
            "Epoch: 10; Train Loss: 0.225520564450158\n",
            "FIM\n"
          ]
        }
      ]
    },
    {
      "cell_type": "markdown",
      "source": [
        "CURVA DE APRENDIZADO"
      ],
      "metadata": {
        "id": "galZ7H7s59at"
      }
    },
    {
      "cell_type": "markdown",
      "source": [],
      "metadata": {
        "id": "uUrXOQQh5V4m"
      }
    },
    {
      "cell_type": "code",
      "source": [
        "errors = {\"Erro treino \": train_costs, \"Erro teste\": test_costs}\n",
        "learning_curve(errors)"
      ],
      "metadata": {
        "colab": {
          "base_uri": "https://localhost:8080/",
          "height": 495
        },
        "id": "iH73pV8pmO5U",
        "outputId": "d7dc3a33-e696-4d61-8066-bc7cda16cc43"
      },
      "execution_count": 36,
      "outputs": [
        {
          "output_type": "display_data",
          "data": {
            "text/plain": [
              "<Figure size 1300x500 with 1 Axes>"
            ],
            "image/png": "[encoded data removed]"
          },
          "metadata": {}
        }
      ]
    },
    {
      "cell_type": "markdown",
      "source": [
        "ACURÁCIA"
      ],
      "metadata": {
        "id": "W0QMC4mU6CbX"
      }
    },
    {
      "cell_type": "code",
      "source": [
        "Acuracy(model, test_loader)"
      ],
      "metadata": {
        "colab": {
          "base_uri": "https://localhost:8080/"
        },
        "id": "Ku7FibLrsWnW",
        "outputId": "ce834a80-7d26-4063-905e-83b932b637b8"
      },
      "execution_count": 37,
      "outputs": [
        {
          "output_type": "stream",
          "name": "stdout",
          "text": [
            "Acurácia no conjunto de teste: 100.00%\n"
          ]
        }
      ]
    },
    {
      "cell_type": "markdown",
      "source": [],
      "metadata": {
        "id": "2ovo2jcuwVYC"
      }
    }
  ]
}